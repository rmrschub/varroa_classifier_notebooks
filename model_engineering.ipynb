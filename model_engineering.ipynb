{
 "cells": [
  {
   "cell_type": "markdown",
   "metadata": {},
   "source": [
    "## Installs, imports, etc."
   ]
  },
  {
   "cell_type": "code",
   "execution_count": null,
   "metadata": {},
   "outputs": [],
   "source": [
    "import tensorflow as tf\n",
    "import tensorflow_datasets as tfds\n",
    "import tensorflow_data_validation\n",
    "import numpy as np\n",
    "\n",
    "import pandas as pd\n",
    "import seaborn as sns\n",
    "import sklearn"
   ]
  },
  {
   "cell_type": "markdown",
   "metadata": {},
   "source": [
    "## Load dataset "
   ]
  },
  {
   "cell_type": "code",
   "execution_count": null,
   "metadata": {},
   "outputs": [],
   "source": [
    "(bee_ds, ), info = tfds.load(\n",
    "    name='bee_dataset',\n",
    "    with_info=True,\n",
    "    split=['train', ],\n",
    "    as_supervised=True,\n",
    "    shuffle_files=False,\n",
    ")\n",
    "\n",
    "varroa_ds = bee_ds.map(lambda x, y: (x, y[\"varroa_output\"]))"
   ]
  },
  {
   "cell_type": "markdown",
   "metadata": {},
   "source": [
    "Calculate the `class_weights` to remedy class imbalance during training."
   ]
  },
  {
   "cell_type": "code",
   "execution_count": null,
   "metadata": {},
   "outputs": [],
   "source": [
    "class_weights = dict(\n",
    "    zip(\n",
    "        # keys\n",
    "        np.unique(np.fromiter(varroa_ds.map(lambda x, y: y), int)), \n",
    "        # weights\n",
    "        sklearn.utils.class_weight.compute_class_weight(\n",
    "            class_weight='balanced',\n",
    "            classes=np.unique(np.fromiter(varroa_ds.map(lambda x, y: y), float)),\n",
    "            y=np.fromiter(varroa_ds.map(lambda x, y: y), float)\n",
    "        ).T\n",
    "    )\n",
    ")\n",
    "\n",
    "print(class_weights)"
   ]
  },
  {
   "cell_type": "markdown",
   "metadata": {},
   "source": [
    "## Model engineering"
   ]
  },
  {
   "cell_type": "markdown",
   "metadata": {},
   "source": [
    "We will use `EfficientNetV2S` architecure (to be trained from scratch!) to train a binary classifier for `varroa_ds`."
   ]
  },
  {
   "cell_type": "code",
   "execution_count": null,
   "metadata": {},
   "outputs": [],
   "source": [
    "model = tf.keras.applications.EfficientNetV2S(\n",
    "    include_top=True,\n",
    "    weights=None,\n",
    "    input_shape=info.features['input'].shape,\n",
    "    pooling=None,\n",
    "    classes=1,\n",
    "    classifier_activation='sigmoid',\n",
    "    include_preprocessing=True,\n",
    ")\n",
    "\n",
    "optimizer = tf.optimizers.Adam(\n",
    "    learning_rate=0.001\n",
    ")\n",
    "\n",
    "model.compile(\n",
    "    optimizer=optimizer,\n",
    "    loss='binary_crossentropy',\n",
    "    metrics=['accuracy'],\n",
    "    run_eagerly=True\n",
    ")"
   ]
  },
  {
   "cell_type": "markdown",
   "metadata": {},
   "source": [
    "## Model training on Ætna (but CPU only)"
   ]
  },
  {
   "cell_type": "code",
   "execution_count": null,
   "metadata": {},
   "outputs": [],
   "source": [
    "NUM_EPOCHS=2\n",
    "BATCH_SIZE=256"
   ]
  },
  {
   "cell_type": "markdown",
   "metadata": {},
   "source": [
    "Next, we build our training data input pipeline."
   ]
  },
  {
   "cell_type": "code",
   "execution_count": null,
   "metadata": {},
   "outputs": [],
   "source": [
    "train_ds = bee_ds.map(lambda x, y: (x, y[\"varroa_output\"])) \\\n",
    "                  .shuffle(bee_ds.cardinality()) \\\n",
    "                  .repeat(NUM_EPOCHS) \\\n",
    "                  .batch(BATCH_SIZE) \\\n",
    "                  .prefetch(tf.data.AUTOTUNE)"
   ]
  },
  {
   "cell_type": "markdown",
   "metadata": {},
   "source": [
    "Let's fit our model and do not forget `class_weights`!"
   ]
  },
  {
   "cell_type": "code",
   "execution_count": null,
   "metadata": {},
   "outputs": [],
   "source": [
    "model.fit(\n",
    "    train_ds,\n",
    "    verbose=1,\n",
    "    class_weight=class_weights\n",
    ")"
   ]
  }
 ],
 "metadata": {
  "kernelspec": {
   "display_name": "Python 3",
   "language": "python",
   "name": "python3"
  },
  "language_info": {
   "codemirror_mode": {
    "name": "ipython",
    "version": 3
   },
   "file_extension": ".py",
   "mimetype": "text/x-python",
   "name": "python",
   "nbconvert_exporter": "python",
   "pygments_lexer": "ipython3",
   "version": "3.10.12"
  },
  "orig_nbformat": 4
 },
 "nbformat": 4,
 "nbformat_minor": 2
}
